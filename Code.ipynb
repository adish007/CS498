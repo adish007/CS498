{
 "cells": [
  {
   "cell_type": "code",
   "execution_count": null,
   "metadata": {
    "vscode": {
     "languageId": "plaintext"
    }
   },
   "outputs": [],
   "source": [
    "import pandas as pd\n",
    "file_path = 'unique_videoIds.csv'  \n",
    "unique_data = pd.read_csv(file_path)\n",
    "\n",
    "average_likes_per_video = unique_data['videoLikeCount'].mean()\n",
    "\n",
    "print(average_likes_per_video)"
   ]
  },
  {
   "cell_type": "code",
   "execution_count": null,
   "metadata": {
    "vscode": {
     "languageId": "plaintext"
    }
   },
   "outputs": [],
   "source": [
    "import pandas as pd\n",
    "\n",
    "\n",
    "file_path = 'unique_videoIds.csv'  \n",
    "\n",
    "\n",
    "unique_data = pd.read_csv(file_path)\n",
    "\n",
    "\n",
    "def calc_engagement_rate(row):\n",
    "    total_interactions = row['videoLikeCount'] + row['videoDislikeCount'] + row['VideoCommentCount']\n",
    "    return total_interactions / row['videoViewCount'] \n",
    "\n",
    "unique_data['engagement_rate'] = unique_data.apply(calc_engagement_rate, axis=1)\n",
    "\n",
    "# calc the average engagement rate\n",
    "average_engagement_rate = unique_data['engagement_rate'].mean()\n",
    "\n",
    "\n",
    "print(f\"average_engagement_rate\")"
   ]
  },
  {
   "cell_type": "code",
   "execution_count": null,
   "metadata": {
    "vscode": {
     "languageId": "plaintext"
    }
   },
   "outputs": [],
   "source": [
    "data_bytes = 500\n",
    "thumbnail_kilobytes = 200\n",
    "data_megabytes = data_bytes / (1024 * 1024)\n",
    "thumbnail_megabytes = thumbnail_kilobytes / 1024\n",
    "total_data_megabytes = data_megabytes + thumbnail_megabytes, 4\n",
    "\n",
    "print(total_data_megabytes)"
   ]
  },
  {
   "cell_type": "code",
   "execution_count": null,
   "metadata": {
    "vscode": {
     "languageId": "plaintext"
    }
   },
   "outputs": [],
   "source": [
    "import pandas as pd\n",
    "\n",
    "file_path = 'unique_videoIds.csv'  \n",
    "\n",
    "unique_data = pd.read_csv(file_path)\n",
    "\n",
    "\n",
    "data_bytes = 500\n",
    "thumbnail_kilobytes = 200\n",
    "data_megabytes = data_bytes / (1024 * 1024)\n",
    "thumbnail_megabytes = thumbnail_kilobytes / 1024\n",
    "total_data_megabytes = data_megabytes + thumbnail_megabytes\n",
    "\n",
    "# Calculate tot engagements (likes, dislikes, and comments)\n",
    "unique_data['total_engagements'] = unique_data['videoLikeCount'] + unique_data['videoDislikeCount'] + unique_data['VideoCommentCount']\n",
    "\n",
    "# Calculate total data transfer \n",
    "total_data_transfer_mb = unique_data['total_engagements'].sum() * total_data_megabytes\n",
    "\n",
    "print(total_data_transfer_mb)"
   ]
  },
  {
   "cell_type": "code",
   "execution_count": null,
   "metadata": {
    "vscode": {
     "languageId": "plaintext"
    }
   },
   "outputs": [],
   "source": [
    "import pandas as pd\n",
    "\n",
    "\n",
    "file_path = 'unique_videoIds.csv'  \n",
    "\n",
    "\n",
    "unique_data = pd.read_csv(file_path)\n",
    "\n",
    "\n",
    "total_views = unique_data['videoViewCount'].sum()\n",
    "total_minutes = 5 * 365 * 24 * 60  \n",
    "views_per_minute = round(total_views / total_minutes, 4)\n",
    "\n",
    "print(views_per_minute)"
   ]
  },
  {
   "cell_type": "code",
   "execution_count": null,
   "metadata": {
    "vscode": {
     "languageId": "plaintext"
    }
   },
   "outputs": [],
   "source": [
    "import pandas as pd\n",
    "\n",
    "\n",
    "file_path = 'unique_videoIds.csv' \n",
    "\n",
    "\n",
    "unique_data = pd.read_csv(file_path)\n",
    "\n",
    "\n",
    "total_views = unique_data['videoViewCount'].sum()\n",
    "total_minutes = 5 * 365 * 24 * 60  \n",
    "views_per_minute = round(total_views / total_minutes, 4)\n",
    "\n",
    "\n",
    "data_bytes = 500\n",
    "thumbnail_kilobytes = 200\n",
    "data_megabytes = data_bytes / (1024 * 1024)\n",
    "thumbnail_megabytes = thumbnail_kilobytes / 1024\n",
    "total_data_megabytes = round(data_megabytes + thumbnail_megabytes, 4)\n",
    "data_accessed_per_minute = round(views_per_minute * total_data_megabytes, 4)\n",
    "\n",
    "\n",
    "print(data_accessed_per_minute)"
   ]
  }
 ],
 "metadata": {
  "language_info": {
   "name": "python"
  }
 },
 "nbformat": 4,
 "nbformat_minor": 2
}
